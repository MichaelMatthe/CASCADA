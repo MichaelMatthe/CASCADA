{
 "cells": [
  {
   "cell_type": "code",
   "execution_count": 11,
   "metadata": {},
   "outputs": [
    {
     "name": "stdout",
     "output_type": "stream",
     "text": [
      "Connected to the server\n",
      "Received from server: {\"0\":{\"EnergyConsumption\":33.10371220000034,\"PacketLoss\":0.09090909090909094},\"1\":{\"EnergyConsumption\":37.27349940000039,\"PacketLoss\":0.08461538461538465},\"2\":{\"EnergyConsumption\":38.3370076000004,\"PacketLoss\":0.0692307692307692}}\n",
      "\n"
     ]
    }
   ],
   "source": [
    "import socket\n",
    "\n",
    "def run_client():\n",
    "    host = '172.27.0.1'  # WSL2 ip address of windows host\n",
    "    port = 9999        # Ensure this matches the Java server port\n",
    "\n",
    "    # Create a socket object\n",
    "    client_socket = socket.socket(socket.AF_INET, socket.SOCK_STREAM)\n",
    "\n",
    "    try:\n",
    "        # Attempt to connect to the server\n",
    "        client_socket.connect((host, port))\n",
    "        print(\"Connected to the server\")\n",
    "\n",
    "        # Send a message to the server (with a newline character)\n",
    "        message = \"{\\\"request\\\": \\\"QoS\\\"}\\n\"\n",
    "        client_socket.sendall(message.encode())\n",
    "\n",
    "        # Receive the response from the server\n",
    "        response = client_socket.recv(1024).decode()\n",
    "        print(\"Received from server:\", response)\n",
    "\n",
    "    except ConnectionRefusedError:\n",
    "        print(\"Connection refused. Is the server running and reachable?\")\n",
    "\n",
    "    finally:\n",
    "        # Close the socket\n",
    "        client_socket.close()\n",
    "\n",
    "if __name__ == \"__main__\":\n",
    "    run_client()"
   ]
  }
 ],
 "metadata": {
  "kernelspec": {
   "display_name": "fm_venv",
   "language": "python",
   "name": "python3"
  },
  "language_info": {
   "codemirror_mode": {
    "name": "ipython",
    "version": 3
   },
   "file_extension": ".py",
   "mimetype": "text/x-python",
   "name": "python",
   "nbconvert_exporter": "python",
   "pygments_lexer": "ipython3",
   "version": "3.10.14"
  }
 },
 "nbformat": 4,
 "nbformat_minor": 2
}
